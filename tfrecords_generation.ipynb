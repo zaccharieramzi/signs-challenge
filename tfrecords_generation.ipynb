{
 "cells": [
  {
   "cell_type": "code",
   "execution_count": null,
   "metadata": {},
   "outputs": [],
   "source": [
    "%matplotlib inline"
   ]
  },
  {
   "cell_type": "code",
   "execution_count": null,
   "metadata": {},
   "outputs": [],
   "source": [
    "from os import listdir\n",
    "from os.path import isfile, join\n",
    "\n",
    "import matplotlib.pyplot as plt\n",
    "import numpy as np\n",
    "from scipy import misc\n",
    "import tensorflow as tf\n",
    "from tqdm import tqdm_notebook\n",
    "\n",
    "from preprocessing import _int64_feature, _bytes_feature, pad_image"
   ]
  },
  {
   "cell_type": "code",
   "execution_count": null,
   "metadata": {},
   "outputs": [],
   "source": [
    "main_directory = \"data\"\n",
    "data_directories = \"clear  clear2  negativeSamples  residential  rotated10deg  rotated20deg  unclear  unclear2\".split()\n",
    "data_directories = [join(main_directory, d) for d in data_directories]"
   ]
  },
  {
   "cell_type": "code",
   "execution_count": null,
   "metadata": {},
   "outputs": [],
   "source": [
    "for d in tqdm_notebook(data_directories, desc=\"Directories\"):\n",
    "    if d == \"negativeSamples\":\n",
    "        label = 0\n",
    "    elif d == \"residential\":\n",
    "        label = 10\n",
    "    else:\n",
    "        label = 0\n",
    "    for f in tqdm_notebook(listdir(d)):\n",
    "        if isfile(join(d, f)) and f.split(\".\")[-1] == \"jpg\":\n",
    "            image_path = join(d, f)\n",
    "            image_name = \".\".join(f.split(\".\")[:-1])\n",
    "            image = misc.imread(image_path)\n",
    "            tf_filename = join(d, image_name + \".tfrecords\")\n",
    "            writer = tf.python_io.TFRecordWriter(tf_filename)\n",
    "            # we are going to pad here\n",
    "            padded_image = pad_image(image)\n",
    "            image_raw = padded_image.tostring()\n",
    "            example = tf.train.Example(features=tf.train.Features(feature={\n",
    "                \"label\": _int64_feature(label),\n",
    "                \"image_raw\": _bytes_feature(image_raw)}))\n",
    "            writer.write(example.SerializeToString())\n",
    "            writer.close()"
   ]
  },
  {
   "cell_type": "code",
   "execution_count": null,
   "metadata": {},
   "outputs": [],
   "source": []
  }
 ],
 "metadata": {
  "kernelspec": {
   "display_name": "Python 3",
   "language": "python",
   "name": "python3"
  },
  "language_info": {
   "codemirror_mode": {
    "name": "ipython",
    "version": 3
   },
   "file_extension": ".py",
   "mimetype": "text/x-python",
   "name": "python",
   "nbconvert_exporter": "python",
   "pygments_lexer": "ipython3",
   "version": "3.5.2"
  }
 },
 "nbformat": 4,
 "nbformat_minor": 2
}
