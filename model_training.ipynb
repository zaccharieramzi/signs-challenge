{
 "cells": [
  {
   "cell_type": "code",
   "execution_count": null,
   "metadata": {},
   "outputs": [],
   "source": [
    "%load_ext autoreload\n",
    "%autoreload 2\n",
    "%matplotlib inline"
   ]
  },
  {
   "cell_type": "code",
   "execution_count": null,
   "metadata": {},
   "outputs": [],
   "source": [
    "from os.path import join\n",
    "import time\n",
    "\n",
    "import numpy as np\n",
    "import tensorflow as tf\n",
    "\n",
    "from nn import inputs, summary_writer, metrics, records\n",
    "from model import vgg, zsc"
   ]
  },
  {
   "cell_type": "code",
   "execution_count": null,
   "metadata": {},
   "outputs": [],
   "source": [
    "# Datasets aggregation\n",
    "train_csv = \"data/train.csv\"\n",
    "test_csv = \"data/test.csv\"\n",
    "train_tfrecord_files, test_tfrecord_files = records(train_csv, test_csv)"
   ]
  },
  {
   "cell_type": "code",
   "execution_count": null,
   "metadata": {},
   "outputs": [],
   "source": [
    "# Parameters\n",
    "# Architecture\n",
    "# VGG-16\n",
    "architecture_conv = [\n",
    "    {\"n_conv\": 2, \"n_kernels\": 64},\n",
    "    {\"n_conv\": 2, \"n_kernels\": 128},\n",
    "    {\"n_conv\": 3, \"n_kernels\": 256},\n",
    "    {\"n_conv\": 3, \"n_kernels\": 512},\n",
    "    {\"n_conv\": 3, \"n_kernels\": 512}\n",
    "]\n",
    "architecture_fc = [\n",
    "    {\"in_size\": 25088, \"fc_dim\": 4096},\n",
    "    {\"in_size\": 4096, \"fc_dim\": 4096}\n",
    "]\n"
   ]
  },
  {
   "cell_type": "code",
   "execution_count": null,
   "metadata": {},
   "outputs": [],
   "source": [
    "# Parameters\n",
    "# Architecture\n",
    "# ZSC\n",
    "architecture_conv = [\n",
    "    {\"n_conv\": 1, \"n_kernels\": 16},\n",
    "    {\"n_conv\": 1, \"n_kernels\": 32},\n",
    "    {\"n_conv\": 1, \"n_kernels\": 64},\n",
    "    {\"n_conv\": 1, \"n_kernels\": 128},\n",
    "    {\"n_conv\": 1, \"n_kernels\": 128}\n",
    "]\n",
    "architecture_fc = [\n",
    "    {\"in_size\": 6272, \"fc_dim\": 512},\n",
    "    {\"in_size\": 512, \"fc_dim\": 512}\n",
    "]"
   ]
  },
  {
   "cell_type": "code",
   "execution_count": null,
   "metadata": {},
   "outputs": [],
   "source": [
    "# Parameters\n",
    "# Training\n",
    "batch_size = 128\n",
    "n_epochs = 2\n",
    "n_threads = 2\n",
    "l_rate = 0.01\n",
    "keep_prob = 0.5\n",
    "# Values\n",
    "data_dict_path = \"models/vgg16.npy\"\n",
    "# data_dict = np.load(data_dict_path, encoding=\"latin1\").item()\n",
    "# Saving and summary\n",
    "save_path = \"models\"\n",
    "model_name = \"vgg-fine-tuned\"\n",
    "log_path = \"logs\"\n",
    "log_name = None\n",
    "summary_rate = 35\n",
    "saving_rate = 35"
   ]
  },
  {
   "cell_type": "code",
   "execution_count": null,
   "metadata": {},
   "outputs": [],
   "source": [
    "tf.reset_default_graph()"
   ]
  },
  {
   "cell_type": "code",
   "execution_count": null,
   "metadata": {},
   "outputs": [],
   "source": [
    "with tf.name_scope(\"train\"):\n",
    "    x, y_ = inputs(\n",
    "        train_tfrecord_files, batch_size,\n",
    "        num_epochs=n_epochs, n_threads=n_threads)\n",
    "    y_ = tf.reshape(y_, [-1, 2])\n",
    "\n",
    "    y = zsc(x, architecture_conv, architecture_fc, keep_prob=keep_prob)\n",
    "\n",
    "with tf.name_scope(\"test\"):\n",
    "    x_test, y_test_ = inputs(\n",
    "        test_tfrecord_files, batch_size,\n",
    "        num_epochs=None, n_threads=n_threads)\n",
    "    y_test_ = tf.reshape(y_test_, [-1, 2])\n",
    "\n",
    "    y_test = zsc(x_test, architecture_conv, architecture_fc, reuse=True)"
   ]
  },
  {
   "cell_type": "code",
   "execution_count": null,
   "metadata": {},
   "outputs": [],
   "source": [
    "# When training vgg-16, we fine tune the last layer.\n",
    "#train_var_names = [\"fc8/fc8_weights:0\", \"fc8/fc8_biases:0\"]\n",
    "#train_vars = [var for var in tf.trainable_variables() if var.name in train_var_names]"
   ]
  },
  {
   "cell_type": "code",
   "execution_count": null,
   "metadata": {},
   "outputs": [],
   "source": [
    "with tf.name_scope(\"loss\"):\n",
    "    # Define loss function\n",
    "    cross_entropy = tf.reduce_mean(\n",
    "          tf.nn.softmax_cross_entropy_with_logits(\n",
    "            labels=y_, logits=y))\n",
    "    cross_entropy_test = tf.reduce_mean(\n",
    "          tf.nn.softmax_cross_entropy_with_logits(\n",
    "            labels=y_test_, logits=y_test))\n",
    "    # Define Optimizer\n",
    "    train_step = tf.train.AdamOptimizer(l_rate).minimize(cross_entropy)\n",
    "    with tf.name_scope(\"loss_summary\"):\n",
    "        tf.summary.scalar(\"loss\", cross_entropy)\n",
    "        tf.summary.scalar(\"loss_test\", cross_entropy_test)"
   ]
  },
  {
   "cell_type": "code",
   "execution_count": null,
   "metadata": {},
   "outputs": [],
   "source": [
    "# Metrics\n",
    "with tf.name_scope(\"metrics\"):\n",
    "    # Train\n",
    "    ground_truth = tf.argmax(y_, axis=1)\n",
    "    predictions = tf.argmax(y, axis=1)\n",
    "    accuracy, _, _, _ = metrics(ground_truth, predictions)\n",
    "    # Test\n",
    "    ground_truth_test = tf.argmax(y_test_, axis=1)\n",
    "    predictions_test = tf.argmax(y_test, axis=1)\n",
    "    metrics(ground_truth_test, predictions_test, \"_test\")"
   ]
  },
  {
   "cell_type": "code",
   "execution_count": null,
   "metadata": {},
   "outputs": [],
   "source": [
    "# Start session\n",
    "sess = tf.InteractiveSession()\n",
    "init_op = tf.group(\n",
    "    tf.global_variables_initializer(),\n",
    "    tf.local_variables_initializer())\n",
    "sess.run(init_op)\n",
    "coord = tf.train.Coordinator()\n",
    "threads = tf.train.start_queue_runners(sess=sess, coord=coord)"
   ]
  },
  {
   "cell_type": "code",
   "execution_count": null,
   "metadata": {},
   "outputs": [],
   "source": [
    "# Saving\n",
    "saver = tf.train.Saver()\n",
    "model_name = \"vgg_fine_tuned\"\n",
    "saving_path = join(save_path, model_name)"
   ]
  },
  {
   "cell_type": "code",
   "execution_count": null,
   "metadata": {},
   "outputs": [],
   "source": [
    "# Summaries\n",
    "merged = tf.summary.merge_all()\n",
    "writer = summary_writer(log_name, model_name, log_path, sess)"
   ]
  },
  {
   "cell_type": "code",
   "execution_count": null,
   "metadata": {},
   "outputs": [],
   "source": [
    "try:\n",
    "    step = 0\n",
    "    while not coord.should_stop():\n",
    "        print(step)\n",
    "        step_start_time = time.time()\n",
    "        # main part of this loop here: train the CNN and get its accuracy.\n",
    "        sess.run([train_step])\n",
    "        step_duration = time.time() - step_start_time\n",
    "        # Print an overview fairly often.\n",
    "        if step % summary_rate == 0:\n",
    "            kwargs = dict()\n",
    "            kwargs[\"options\"] = tf.RunOptions(\n",
    "                trace_level=tf.RunOptions.FULL_TRACE)\n",
    "            run_metadata = tf.RunMetadata()\n",
    "            kwargs[\"run_metadata\"] = run_metadata\n",
    "            accuracy_value, summary = sess.run(\n",
    "                [accuracy, merged], **kwargs)\n",
    "            writer.add_summary(summary, step)\n",
    "            writer.add_run_metadata(run_metadata, \"step {}\".format(step))\n",
    "            print(\"Step {step}: accuracy = {acc} ({duration} sec)\".format(\n",
    "                step=step,\n",
    "                acc=accuracy_value,\n",
    "                duration=step_duration)\n",
    "            )\n",
    "        if step % saving_rate == 0:\n",
    "            saver.save(sess, saving_path, global_step=step)\n",
    "        step += 1\n",
    "except tf.errors.OutOfRangeError:\n",
    "    print(\"Done training for {n_epochs} epochs, {n_steps} steps.\".format(\n",
    "        n_epochs=n_epochs,\n",
    "        n_steps=step\n",
    "    ))\n",
    "finally:\n",
    "    # When done, ask the threads to stop.\n",
    "    coord.request_stop()"
   ]
  },
  {
   "cell_type": "code",
   "execution_count": null,
   "metadata": {},
   "outputs": [],
   "source": [
    "# Wait for threads to finish.\n",
    "coord.join(threads)\n",
    "sess.close()"
   ]
  }
 ],
 "metadata": {
  "kernelspec": {
   "display_name": "Python 3",
   "language": "python",
   "name": "python3"
  },
  "language_info": {
   "codemirror_mode": {
    "name": "ipython",
    "version": 3
   },
   "file_extension": ".py",
   "mimetype": "text/x-python",
   "name": "python",
   "nbconvert_exporter": "python",
   "pygments_lexer": "ipython3",
   "version": "3.5.2"
  }
 },
 "nbformat": 4,
 "nbformat_minor": 2
}
