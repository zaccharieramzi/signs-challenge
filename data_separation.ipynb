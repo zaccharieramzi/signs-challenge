{
 "cells": [
  {
   "cell_type": "code",
   "execution_count": 1,
   "metadata": {},
   "outputs": [],
   "source": [
    "import csv\n",
    "from os import listdir\n",
    "from os.path import isfile, join\n",
    "import random"
   ]
  },
  {
   "cell_type": "code",
   "execution_count": 2,
   "metadata": {},
   "outputs": [],
   "source": [
    "random.seed(0)"
   ]
  },
  {
   "cell_type": "code",
   "execution_count": 3,
   "metadata": {},
   "outputs": [],
   "source": [
    "main_directory = \"data\"\n",
    "train_data_directories = \"clear  clear2  negativeSamples  rotated10deg  rotated20deg  unclear  unclear2\".split()\n",
    "train_data_directories = [join(main_directory, d) for d in train_data_directories]"
   ]
  },
  {
   "cell_type": "code",
   "execution_count": 4,
   "metadata": {},
   "outputs": [],
   "source": [
    "train_files = list()\n",
    "test_files = list()"
   ]
  },
  {
   "cell_type": "code",
   "execution_count": 5,
   "metadata": {},
   "outputs": [],
   "source": [
    "for d in train_data_directories:\n",
    "    for f in listdir(d):\n",
    "        if isfile(join(d, f)) and f.split(\".\")[-1] == \"tfrecords\":\n",
    "            record_path = join(d, f)\n",
    "            if random.random() > 0.5:\n",
    "                train_files.append(record_path)\n",
    "            else:\n",
    "                test_files.append(record_path)"
   ]
  },
  {
   "cell_type": "code",
   "execution_count": 7,
   "metadata": {},
   "outputs": [],
   "source": [
    "with open(\"data/train.csv\", \"w\") as out:\n",
    "    wr = csv.writer(out, quoting=csv.QUOTE_ALL)\n",
    "    wr.writerow(train_files)\n",
    "with open(\"data/test.csv\", \"w\") as out:\n",
    "    wr = csv.writer(out, quoting=csv.QUOTE_ALL)\n",
    "    wr.writerow(test_files)"
   ]
  },
  {
   "cell_type": "code",
   "execution_count": null,
   "metadata": {},
   "outputs": [],
   "source": []
  }
 ],
 "metadata": {
  "kernelspec": {
   "display_name": "Python 3",
   "language": "python",
   "name": "python3"
  },
  "language_info": {
   "codemirror_mode": {
    "name": "ipython",
    "version": 3
   },
   "file_extension": ".py",
   "mimetype": "text/x-python",
   "name": "python",
   "nbconvert_exporter": "python",
   "pygments_lexer": "ipython3",
   "version": "3.5.2"
  }
 },
 "nbformat": 4,
 "nbformat_minor": 2
}
